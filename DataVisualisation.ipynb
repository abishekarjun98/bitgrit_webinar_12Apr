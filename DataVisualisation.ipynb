{
  "nbformat": 4,
  "nbformat_minor": 0,
  "metadata": {
    "hide_input": false,
    "kernelspec": {
      "display_name": "Python 3",
      "language": "python",
      "name": "python3"
    },
    "language_info": {
      "codemirror_mode": {
        "name": "ipython",
        "version": 3
      },
      "file_extension": ".py",
      "mimetype": "text/x-python",
      "name": "python",
      "nbconvert_exporter": "python",
      "pygments_lexer": "ipython3",
      "version": "3.7.3"
    },
    "toc": {
      "base_numbering": 1,
      "nav_menu": {},
      "number_sections": true,
      "sideBar": true,
      "skip_h1_title": false,
      "title_cell": "Table of Contents",
      "title_sidebar": "Contents",
      "toc_cell": false,
      "toc_position": {},
      "toc_section_display": true,
      "toc_window_display": false
    },
    "colab": {
      "name": "DataVisualisation.ipynb",
      "provenance": []
    }
  },
  "cells": [
    {
      "cell_type": "markdown",
      "metadata": {
        "id": "tIrlRA6X88PJ",
        "colab_type": "text"
      },
      "source": [
        "# Data Visualization:"
      ]
    },
    {
      "cell_type": "markdown",
      "metadata": {
        "id": "IKEs7UKD88PL",
        "colab_type": "text"
      },
      "source": [
        "Two main libraries are used for plotting data in python:\n",
        "\n",
        "Matplotlib: Python based plotting library offers matplotlib with a complete 2D support along with limited 3D graphic support. It is useful in producing publication quality figures in interactive environment across platforms. It can also be used for animations as well. To know more about this library, check this link.\n",
        "\n",
        "Seaborn: Seaborn is a library for creating informative and attractive statistical graphics in python. This library is based on matplotlib. Seaborn offers various features such as built in themes, color palettes, functions and tools to visualize univariate, bivariate, linear regression, matrices of data, statistical time series etc which lets us to build complex visualizations. To know more about this library, check this link."
      ]
    },
    {
      "cell_type": "code",
      "metadata": {
        "id": "det-D1uW88PM",
        "colab_type": "code",
        "colab": {
          "base_uri": "https://localhost:8080/",
          "height": 71
        },
        "outputId": "b9eb57b7-8b6c-4175-f6e0-367562660006"
      },
      "source": [
        "import matplotlib.pyplot as plt\n",
        "import pandas as pd\n",
        "import seaborn as sns"
      ],
      "execution_count": 1,
      "outputs": [
        {
          "output_type": "stream",
          "text": [
            "/usr/local/lib/python3.6/dist-packages/statsmodels/tools/_testing.py:19: FutureWarning: pandas.util.testing is deprecated. Use the functions in the public API at pandas.testing instead.\n",
            "  import pandas.util.testing as tm\n"
          ],
          "name": "stderr"
        }
      ]
    },
    {
      "cell_type": "code",
      "metadata": {
        "id": "hMCOZIRI9cW0",
        "colab_type": "code",
        "outputId": "305fdc29-ac80-457e-b249-54a979f8a9b6",
        "colab": {
          "base_uri": "https://localhost:8080/",
          "height": 122
        }
      },
      "source": [
        "from google.colab import drive\n",
        "drive.mount('/content/drive')"
      ],
      "execution_count": 2,
      "outputs": [
        {
          "output_type": "stream",
          "text": [
            "Go to this URL in a browser: https://accounts.google.com/o/oauth2/auth?client_id=947318989803-6bn6qk8qdgf4n4g3pfee6491hc0brc4i.apps.googleusercontent.com&redirect_uri=urn%3aietf%3awg%3aoauth%3a2.0%3aoob&response_type=code&scope=email%20https%3a%2f%2fwww.googleapis.com%2fauth%2fdocs.test%20https%3a%2f%2fwww.googleapis.com%2fauth%2fdrive%20https%3a%2f%2fwww.googleapis.com%2fauth%2fdrive.photos.readonly%20https%3a%2f%2fwww.googleapis.com%2fauth%2fpeopleapi.readonly\n",
            "\n",
            "Enter your authorization code:\n",
            "··········\n",
            "Mounted at /content/drive\n"
          ],
          "name": "stdout"
        }
      ]
    },
    {
      "cell_type": "code",
      "metadata": {
        "id": "rfunkynF8cG3",
        "colab_type": "code",
        "colab": {}
      },
      "source": [
        "df=pd.read_csv('/content/drive/My Drive/bitgrit content/bitgrit_webinar_12Apr_2020/EDA/train_LZdllcl.csv')\n",
        "# pd.read_csv('https://drive.google.com/file/d/1j4uHhX47b1AWTDpkyY-Z5Y_GObTRB4q5/view?usp=sharing')"
      ],
      "execution_count": 0,
      "outputs": []
    },
    {
      "cell_type": "code",
      "metadata": {
        "id": "24xkDeY788PP",
        "colab_type": "code",
        "colab": {}
      },
      "source": [
        "# pd.set_option('display.max_rows', 500)\n",
        "pd.set_option('display.max_columns', 500)\n",
        "# pd.set_option('display.width', 1000)\n",
        "# pd.set_option('display.expand_frame_repr', True)"
      ],
      "execution_count": 0,
      "outputs": []
    },
    {
      "cell_type": "code",
      "metadata": {
        "id": "dvpeu2Ji88PR",
        "colab_type": "code",
        "colab": {}
      },
      "source": [
        "# Imports for better visualization\n",
        "from matplotlib import rcParams\n",
        "#colorbrewer2 Dark2 qualitative color table\n",
        "dark2_colors = [(0.10588235294117647, 0.6196078431372549, 0.4666666666666667),\n",
        "                (0.8509803921568627, 0.37254901960784315, 0.00784313725490196),\n",
        "                (0.4588235294117647, 0.4392156862745098, 0.7019607843137254),\n",
        "                (0.9058823529411765, 0.1607843137254902, 0.5411764705882353),\n",
        "                (0.4, 0.6509803921568628, 0.11764705882352941),\n",
        "                (0.9019607843137255, 0.6705882352941176, 0.00784313725490196),\n",
        "                (0.6509803921568628, 0.4627450980392157, 0.11372549019607843)]\n",
        "\n",
        "rcParams['figure.figsize'] = (10, 4)\n",
        "rcParams['figure.dpi'] = 150\n",
        "#rcParams['axes.color_cycle'] = dark2_colors\n",
        "rcParams['lines.linewidth'] = 2\n",
        "rcParams['font.size'] = 8\n",
        "rcParams['patch.edgecolor'] = 'white'\n",
        "rcParams['patch.facecolor'] = dark2_colors[0]\n",
        "rcParams['font.family'] = 'StixGeneral'\n",
        "rcParams['axes.grid'] = True\n",
        "rcParams['axes.facecolor'] = '#eeeeee'"
      ],
      "execution_count": 0,
      "outputs": []
    },
    {
      "cell_type": "markdown",
      "metadata": {
        "id": "QVzbHAom88PS",
        "colab_type": "text"
      },
      "source": [
        "## Raw Data Visualization"
      ]
    },
    {
      "cell_type": "code",
      "metadata": {
        "scrolled": true,
        "id": "2P7Z9JKl88PU",
        "colab_type": "code",
        "outputId": "953ab3be-c095-404b-f063-e42198d0bc37",
        "colab": {
          "base_uri": "https://localhost:8080/",
          "height": 481
        }
      },
      "source": [
        "df.head(10)"
      ],
      "execution_count": 7,
      "outputs": [
        {
          "output_type": "execute_result",
          "data": {
            "text/html": [
              "<div>\n",
              "<style scoped>\n",
              "    .dataframe tbody tr th:only-of-type {\n",
              "        vertical-align: middle;\n",
              "    }\n",
              "\n",
              "    .dataframe tbody tr th {\n",
              "        vertical-align: top;\n",
              "    }\n",
              "\n",
              "    .dataframe thead th {\n",
              "        text-align: right;\n",
              "    }\n",
              "</style>\n",
              "<table border=\"1\" class=\"dataframe\">\n",
              "  <thead>\n",
              "    <tr style=\"text-align: right;\">\n",
              "      <th></th>\n",
              "      <th>employee_id</th>\n",
              "      <th>department</th>\n",
              "      <th>region</th>\n",
              "      <th>education</th>\n",
              "      <th>gender</th>\n",
              "      <th>recruitment_channel</th>\n",
              "      <th>no_of_trainings</th>\n",
              "      <th>age</th>\n",
              "      <th>previous_year_rating</th>\n",
              "      <th>length_of_service</th>\n",
              "      <th>KPIs_met &gt;80%</th>\n",
              "      <th>awards_won?</th>\n",
              "      <th>avg_training_score</th>\n",
              "      <th>is_promoted</th>\n",
              "    </tr>\n",
              "  </thead>\n",
              "  <tbody>\n",
              "    <tr>\n",
              "      <th>0</th>\n",
              "      <td>65438</td>\n",
              "      <td>Sales &amp; Marketing</td>\n",
              "      <td>region_7</td>\n",
              "      <td>Master's &amp; above</td>\n",
              "      <td>f</td>\n",
              "      <td>sourcing</td>\n",
              "      <td>1</td>\n",
              "      <td>35</td>\n",
              "      <td>5.0</td>\n",
              "      <td>8</td>\n",
              "      <td>1</td>\n",
              "      <td>0</td>\n",
              "      <td>49</td>\n",
              "      <td>0</td>\n",
              "    </tr>\n",
              "    <tr>\n",
              "      <th>1</th>\n",
              "      <td>65141</td>\n",
              "      <td>Operations</td>\n",
              "      <td>region_22</td>\n",
              "      <td>Bachelor's</td>\n",
              "      <td>m</td>\n",
              "      <td>other</td>\n",
              "      <td>1</td>\n",
              "      <td>30</td>\n",
              "      <td>5.0</td>\n",
              "      <td>4</td>\n",
              "      <td>0</td>\n",
              "      <td>0</td>\n",
              "      <td>60</td>\n",
              "      <td>0</td>\n",
              "    </tr>\n",
              "    <tr>\n",
              "      <th>2</th>\n",
              "      <td>7513</td>\n",
              "      <td>Sales &amp; Marketing</td>\n",
              "      <td>region_19</td>\n",
              "      <td>Bachelor's</td>\n",
              "      <td>m</td>\n",
              "      <td>sourcing</td>\n",
              "      <td>1</td>\n",
              "      <td>34</td>\n",
              "      <td>3.0</td>\n",
              "      <td>7</td>\n",
              "      <td>0</td>\n",
              "      <td>0</td>\n",
              "      <td>50</td>\n",
              "      <td>0</td>\n",
              "    </tr>\n",
              "    <tr>\n",
              "      <th>3</th>\n",
              "      <td>2542</td>\n",
              "      <td>Sales &amp; Marketing</td>\n",
              "      <td>region_23</td>\n",
              "      <td>Bachelor's</td>\n",
              "      <td>m</td>\n",
              "      <td>other</td>\n",
              "      <td>2</td>\n",
              "      <td>39</td>\n",
              "      <td>1.0</td>\n",
              "      <td>10</td>\n",
              "      <td>0</td>\n",
              "      <td>0</td>\n",
              "      <td>50</td>\n",
              "      <td>0</td>\n",
              "    </tr>\n",
              "    <tr>\n",
              "      <th>4</th>\n",
              "      <td>48945</td>\n",
              "      <td>Technology</td>\n",
              "      <td>region_26</td>\n",
              "      <td>Bachelor's</td>\n",
              "      <td>m</td>\n",
              "      <td>other</td>\n",
              "      <td>1</td>\n",
              "      <td>45</td>\n",
              "      <td>3.0</td>\n",
              "      <td>2</td>\n",
              "      <td>0</td>\n",
              "      <td>0</td>\n",
              "      <td>73</td>\n",
              "      <td>0</td>\n",
              "    </tr>\n",
              "    <tr>\n",
              "      <th>5</th>\n",
              "      <td>58896</td>\n",
              "      <td>Analytics</td>\n",
              "      <td>region_2</td>\n",
              "      <td>Bachelor's</td>\n",
              "      <td>m</td>\n",
              "      <td>sourcing</td>\n",
              "      <td>2</td>\n",
              "      <td>31</td>\n",
              "      <td>3.0</td>\n",
              "      <td>7</td>\n",
              "      <td>0</td>\n",
              "      <td>0</td>\n",
              "      <td>85</td>\n",
              "      <td>0</td>\n",
              "    </tr>\n",
              "    <tr>\n",
              "      <th>6</th>\n",
              "      <td>20379</td>\n",
              "      <td>Operations</td>\n",
              "      <td>region_20</td>\n",
              "      <td>Bachelor's</td>\n",
              "      <td>f</td>\n",
              "      <td>other</td>\n",
              "      <td>1</td>\n",
              "      <td>31</td>\n",
              "      <td>3.0</td>\n",
              "      <td>5</td>\n",
              "      <td>0</td>\n",
              "      <td>0</td>\n",
              "      <td>59</td>\n",
              "      <td>0</td>\n",
              "    </tr>\n",
              "    <tr>\n",
              "      <th>7</th>\n",
              "      <td>16290</td>\n",
              "      <td>Operations</td>\n",
              "      <td>region_34</td>\n",
              "      <td>Master's &amp; above</td>\n",
              "      <td>m</td>\n",
              "      <td>sourcing</td>\n",
              "      <td>1</td>\n",
              "      <td>33</td>\n",
              "      <td>3.0</td>\n",
              "      <td>6</td>\n",
              "      <td>0</td>\n",
              "      <td>0</td>\n",
              "      <td>63</td>\n",
              "      <td>0</td>\n",
              "    </tr>\n",
              "    <tr>\n",
              "      <th>8</th>\n",
              "      <td>73202</td>\n",
              "      <td>Analytics</td>\n",
              "      <td>region_20</td>\n",
              "      <td>Bachelor's</td>\n",
              "      <td>m</td>\n",
              "      <td>other</td>\n",
              "      <td>1</td>\n",
              "      <td>28</td>\n",
              "      <td>4.0</td>\n",
              "      <td>5</td>\n",
              "      <td>0</td>\n",
              "      <td>0</td>\n",
              "      <td>83</td>\n",
              "      <td>0</td>\n",
              "    </tr>\n",
              "    <tr>\n",
              "      <th>9</th>\n",
              "      <td>28911</td>\n",
              "      <td>Sales &amp; Marketing</td>\n",
              "      <td>region_1</td>\n",
              "      <td>Master's &amp; above</td>\n",
              "      <td>m</td>\n",
              "      <td>sourcing</td>\n",
              "      <td>1</td>\n",
              "      <td>32</td>\n",
              "      <td>5.0</td>\n",
              "      <td>5</td>\n",
              "      <td>1</td>\n",
              "      <td>0</td>\n",
              "      <td>54</td>\n",
              "      <td>0</td>\n",
              "    </tr>\n",
              "  </tbody>\n",
              "</table>\n",
              "</div>"
            ],
            "text/plain": [
              "   employee_id         department     region         education gender  \\\n",
              "0        65438  Sales & Marketing   region_7  Master's & above      f   \n",
              "1        65141         Operations  region_22        Bachelor's      m   \n",
              "2         7513  Sales & Marketing  region_19        Bachelor's      m   \n",
              "3         2542  Sales & Marketing  region_23        Bachelor's      m   \n",
              "4        48945         Technology  region_26        Bachelor's      m   \n",
              "5        58896          Analytics   region_2        Bachelor's      m   \n",
              "6        20379         Operations  region_20        Bachelor's      f   \n",
              "7        16290         Operations  region_34  Master's & above      m   \n",
              "8        73202          Analytics  region_20        Bachelor's      m   \n",
              "9        28911  Sales & Marketing   region_1  Master's & above      m   \n",
              "\n",
              "  recruitment_channel  no_of_trainings  age  previous_year_rating  \\\n",
              "0            sourcing                1   35                   5.0   \n",
              "1               other                1   30                   5.0   \n",
              "2            sourcing                1   34                   3.0   \n",
              "3               other                2   39                   1.0   \n",
              "4               other                1   45                   3.0   \n",
              "5            sourcing                2   31                   3.0   \n",
              "6               other                1   31                   3.0   \n",
              "7            sourcing                1   33                   3.0   \n",
              "8               other                1   28                   4.0   \n",
              "9            sourcing                1   32                   5.0   \n",
              "\n",
              "   length_of_service  KPIs_met >80%  awards_won?  avg_training_score  \\\n",
              "0                  8              1            0                  49   \n",
              "1                  4              0            0                  60   \n",
              "2                  7              0            0                  50   \n",
              "3                 10              0            0                  50   \n",
              "4                  2              0            0                  73   \n",
              "5                  7              0            0                  85   \n",
              "6                  5              0            0                  59   \n",
              "7                  6              0            0                  63   \n",
              "8                  5              0            0                  83   \n",
              "9                  5              1            0                  54   \n",
              "\n",
              "   is_promoted  \n",
              "0            0  \n",
              "1            0  \n",
              "2            0  \n",
              "3            0  \n",
              "4            0  \n",
              "5            0  \n",
              "6            0  \n",
              "7            0  \n",
              "8            0  \n",
              "9            0  "
            ]
          },
          "metadata": {
            "tags": []
          },
          "execution_count": 7
        }
      ]
    },
    {
      "cell_type": "code",
      "metadata": {
        "scrolled": true,
        "id": "STj6R-F088PW",
        "colab_type": "code",
        "outputId": "240baa29-46ec-4925-dbf7-3dc1c82a9d94",
        "colab": {
          "base_uri": "https://localhost:8080/",
          "height": 297
        }
      },
      "source": [
        "df.describe()"
      ],
      "execution_count": 8,
      "outputs": [
        {
          "output_type": "execute_result",
          "data": {
            "text/html": [
              "<div>\n",
              "<style scoped>\n",
              "    .dataframe tbody tr th:only-of-type {\n",
              "        vertical-align: middle;\n",
              "    }\n",
              "\n",
              "    .dataframe tbody tr th {\n",
              "        vertical-align: top;\n",
              "    }\n",
              "\n",
              "    .dataframe thead th {\n",
              "        text-align: right;\n",
              "    }\n",
              "</style>\n",
              "<table border=\"1\" class=\"dataframe\">\n",
              "  <thead>\n",
              "    <tr style=\"text-align: right;\">\n",
              "      <th></th>\n",
              "      <th>employee_id</th>\n",
              "      <th>no_of_trainings</th>\n",
              "      <th>age</th>\n",
              "      <th>previous_year_rating</th>\n",
              "      <th>length_of_service</th>\n",
              "      <th>KPIs_met &gt;80%</th>\n",
              "      <th>awards_won?</th>\n",
              "      <th>avg_training_score</th>\n",
              "      <th>is_promoted</th>\n",
              "    </tr>\n",
              "  </thead>\n",
              "  <tbody>\n",
              "    <tr>\n",
              "      <th>count</th>\n",
              "      <td>54808.000000</td>\n",
              "      <td>54808.000000</td>\n",
              "      <td>54808.000000</td>\n",
              "      <td>50684.000000</td>\n",
              "      <td>54808.000000</td>\n",
              "      <td>54808.000000</td>\n",
              "      <td>54808.000000</td>\n",
              "      <td>54808.000000</td>\n",
              "      <td>54808.000000</td>\n",
              "    </tr>\n",
              "    <tr>\n",
              "      <th>mean</th>\n",
              "      <td>39195.830627</td>\n",
              "      <td>1.253011</td>\n",
              "      <td>34.803915</td>\n",
              "      <td>3.329256</td>\n",
              "      <td>5.865512</td>\n",
              "      <td>0.351974</td>\n",
              "      <td>0.023172</td>\n",
              "      <td>63.386750</td>\n",
              "      <td>0.085170</td>\n",
              "    </tr>\n",
              "    <tr>\n",
              "      <th>std</th>\n",
              "      <td>22586.581449</td>\n",
              "      <td>0.609264</td>\n",
              "      <td>7.660169</td>\n",
              "      <td>1.259993</td>\n",
              "      <td>4.265094</td>\n",
              "      <td>0.477590</td>\n",
              "      <td>0.150450</td>\n",
              "      <td>13.371559</td>\n",
              "      <td>0.279137</td>\n",
              "    </tr>\n",
              "    <tr>\n",
              "      <th>min</th>\n",
              "      <td>1.000000</td>\n",
              "      <td>1.000000</td>\n",
              "      <td>20.000000</td>\n",
              "      <td>1.000000</td>\n",
              "      <td>1.000000</td>\n",
              "      <td>0.000000</td>\n",
              "      <td>0.000000</td>\n",
              "      <td>39.000000</td>\n",
              "      <td>0.000000</td>\n",
              "    </tr>\n",
              "    <tr>\n",
              "      <th>25%</th>\n",
              "      <td>19669.750000</td>\n",
              "      <td>1.000000</td>\n",
              "      <td>29.000000</td>\n",
              "      <td>3.000000</td>\n",
              "      <td>3.000000</td>\n",
              "      <td>0.000000</td>\n",
              "      <td>0.000000</td>\n",
              "      <td>51.000000</td>\n",
              "      <td>0.000000</td>\n",
              "    </tr>\n",
              "    <tr>\n",
              "      <th>50%</th>\n",
              "      <td>39225.500000</td>\n",
              "      <td>1.000000</td>\n",
              "      <td>33.000000</td>\n",
              "      <td>3.000000</td>\n",
              "      <td>5.000000</td>\n",
              "      <td>0.000000</td>\n",
              "      <td>0.000000</td>\n",
              "      <td>60.000000</td>\n",
              "      <td>0.000000</td>\n",
              "    </tr>\n",
              "    <tr>\n",
              "      <th>75%</th>\n",
              "      <td>58730.500000</td>\n",
              "      <td>1.000000</td>\n",
              "      <td>39.000000</td>\n",
              "      <td>4.000000</td>\n",
              "      <td>7.000000</td>\n",
              "      <td>1.000000</td>\n",
              "      <td>0.000000</td>\n",
              "      <td>76.000000</td>\n",
              "      <td>0.000000</td>\n",
              "    </tr>\n",
              "    <tr>\n",
              "      <th>max</th>\n",
              "      <td>78298.000000</td>\n",
              "      <td>10.000000</td>\n",
              "      <td>60.000000</td>\n",
              "      <td>5.000000</td>\n",
              "      <td>37.000000</td>\n",
              "      <td>1.000000</td>\n",
              "      <td>1.000000</td>\n",
              "      <td>99.000000</td>\n",
              "      <td>1.000000</td>\n",
              "    </tr>\n",
              "  </tbody>\n",
              "</table>\n",
              "</div>"
            ],
            "text/plain": [
              "        employee_id  no_of_trainings           age  previous_year_rating  \\\n",
              "count  54808.000000     54808.000000  54808.000000          50684.000000   \n",
              "mean   39195.830627         1.253011     34.803915              3.329256   \n",
              "std    22586.581449         0.609264      7.660169              1.259993   \n",
              "min        1.000000         1.000000     20.000000              1.000000   \n",
              "25%    19669.750000         1.000000     29.000000              3.000000   \n",
              "50%    39225.500000         1.000000     33.000000              3.000000   \n",
              "75%    58730.500000         1.000000     39.000000              4.000000   \n",
              "max    78298.000000        10.000000     60.000000              5.000000   \n",
              "\n",
              "       length_of_service  KPIs_met >80%   awards_won?  avg_training_score  \\\n",
              "count       54808.000000   54808.000000  54808.000000        54808.000000   \n",
              "mean            5.865512       0.351974      0.023172           63.386750   \n",
              "std             4.265094       0.477590      0.150450           13.371559   \n",
              "min             1.000000       0.000000      0.000000           39.000000   \n",
              "25%             3.000000       0.000000      0.000000           51.000000   \n",
              "50%             5.000000       0.000000      0.000000           60.000000   \n",
              "75%             7.000000       1.000000      0.000000           76.000000   \n",
              "max            37.000000       1.000000      1.000000           99.000000   \n",
              "\n",
              "        is_promoted  \n",
              "count  54808.000000  \n",
              "mean       0.085170  \n",
              "std        0.279137  \n",
              "min        0.000000  \n",
              "25%        0.000000  \n",
              "50%        0.000000  \n",
              "75%        0.000000  \n",
              "max        1.000000  "
            ]
          },
          "metadata": {
            "tags": []
          },
          "execution_count": 8
        }
      ]
    },
    {
      "cell_type": "code",
      "metadata": {
        "id": "GaBXRU6H88PY",
        "colab_type": "code",
        "outputId": "5aa2f732-e2a7-4c32-9b19-183bd32a5172",
        "colab": {
          "base_uri": "https://localhost:8080/",
          "height": 374
        }
      },
      "source": [
        "df.info()"
      ],
      "execution_count": 9,
      "outputs": [
        {
          "output_type": "stream",
          "text": [
            "<class 'pandas.core.frame.DataFrame'>\n",
            "RangeIndex: 54808 entries, 0 to 54807\n",
            "Data columns (total 14 columns):\n",
            " #   Column                Non-Null Count  Dtype  \n",
            "---  ------                --------------  -----  \n",
            " 0   employee_id           54808 non-null  int64  \n",
            " 1   department            54808 non-null  object \n",
            " 2   region                54808 non-null  object \n",
            " 3   education             52399 non-null  object \n",
            " 4   gender                54808 non-null  object \n",
            " 5   recruitment_channel   54808 non-null  object \n",
            " 6   no_of_trainings       54808 non-null  int64  \n",
            " 7   age                   54808 non-null  int64  \n",
            " 8   previous_year_rating  50684 non-null  float64\n",
            " 9   length_of_service     54808 non-null  int64  \n",
            " 10  KPIs_met >80%         54808 non-null  int64  \n",
            " 11  awards_won?           54808 non-null  int64  \n",
            " 12  avg_training_score    54808 non-null  int64  \n",
            " 13  is_promoted           54808 non-null  int64  \n",
            "dtypes: float64(1), int64(8), object(5)\n",
            "memory usage: 5.9+ MB\n"
          ],
          "name": "stdout"
        }
      ]
    },
    {
      "cell_type": "markdown",
      "metadata": {
        "id": "OMjrfKA488Pb",
        "colab_type": "text"
      },
      "source": [
        "# Histogram"
      ]
    },
    {
      "cell_type": "code",
      "metadata": {
        "scrolled": false,
        "id": "PBBX7G-I88Pb",
        "colab_type": "code",
        "outputId": "5525e495-8a7b-4137-f4e6-53aa30490a16",
        "colab": {
          "base_uri": "https://localhost:8080/",
          "height": 354
        }
      },
      "source": [
        "fig=plt.figure(figsize=(3,2)) #Plots in matplotlib reside within a figure object, use plt.figure to create new figure\n",
        "#Create one or more subplots using add_subplot, because you can't create blank figure\n",
        "ax = fig.add_subplot(1,1,1)\n",
        "#Variable\n",
        "ax.hist(df['age'],bins = 7) # Here you can play with number of bins Labels and Tit\n",
        "plt.title('Age distribution')\n",
        "plt.xlabel('Age')\n",
        "plt.ylabel('#Employee')\n",
        "plt.show()\n"
      ],
      "execution_count": 10,
      "outputs": [
        {
          "output_type": "display_data",
          "data": {
            "image/png": "[encoded data removed]",
            "text/plain": [
              "<Figure size 450x300 with 1 Axes>"
            ]
          },
          "metadata": {
            "tags": []
          }
        }
      ]
    },
    {
      "cell_type": "markdown",
      "metadata": {
        "id": "YuasTxoG88Pd",
        "colab_type": "text"
      },
      "source": [
        "## Distributions"
      ]
    },
    {
      "cell_type": "code",
      "metadata": {
        "scrolled": true,
        "id": "2iPvet8R88Pd",
        "colab_type": "code",
        "outputId": "daeabded-19b7-451a-f145-5f4a275b7b59",
        "colab": {
          "base_uri": "https://localhost:8080/",
          "height": 354
        }
      },
      "source": [
        "fig=plt.figure(figsize=(3,2)) #Plots in matplotlib reside within a figure object, use plt.figure to create new figure\n",
        "#Create one or more subplots using add_subplot, because you can't create blank figure\n",
        "ax = fig.add_subplot(1,1,1)\n",
        "#Variable\n",
        "sns.distplot(df['age']) # Here you can play with number of bins Labels and Tit\n",
        "plt.title('Age distribution')\n",
        "plt.xlabel('Age')\n",
        "plt.ylabel('#Employee')\n",
        "plt.show()\n"
      ],
      "execution_count": 11,
      "outputs": [
        {
          "output_type": "display_data",
          "data": {
            "image/png": "[encoded data removed]",
            "text/plain": [
              "<Figure size 450x300 with 1 Axes>"
            ]
          },
          "metadata": {
            "tags": []
          }
        }
      ]
    },
    {
      "cell_type": "markdown",
      "metadata": {
        "id": "zD79WTek88Pg",
        "colab_type": "text"
      },
      "source": [
        "# Box plot"
      ]
    },
    {
      "cell_type": "markdown",
      "metadata": {
        "id": "NIFiu31d88Pg",
        "colab_type": "text"
      },
      "source": [
        "<img src=\"https://miro.medium.com/max/9000/1*2c21SkzJMf3frPXPAR_gZA.png\">"
      ]
    },
    {
      "cell_type": "code",
      "metadata": {
        "scrolled": true,
        "id": "KaHpIz9H88Ph",
        "colab_type": "code",
        "outputId": "97d33f5c-dedd-4b94-bb5c-6335cd86f2bf",
        "colab": {
          "base_uri": "https://localhost:8080/",
          "height": 441
        }
      },
      "source": [
        "\n",
        "fig=plt.figure(figsize=(3,3))\n",
        "ax = fig.add_subplot(1,1,1)\n",
        "#Variable\n",
        "sns.boxplot(df['age'])\n",
        "plt.show()"
      ],
      "execution_count": 12,
      "outputs": [
        {
          "output_type": "display_data",
          "data": {
            "image/png": "[encoded data removed]",
            "text/plain": [
              "<Figure size 450x450 with 1 Axes>"
            ]
          },
          "metadata": {
            "tags": []
          }
        }
      ]
    },
    {
      "cell_type": "markdown",
      "metadata": {
        "id": "laUliAfH88Pj",
        "colab_type": "text"
      },
      "source": [
        "# Violin Plot\n"
      ]
    },
    {
      "cell_type": "code",
      "metadata": {
        "scrolled": true,
        "id": "qrX52b-Q88Pj",
        "colab_type": "code",
        "outputId": "95f2f15f-b760-4806-8436-dcaf0f30a6ea",
        "colab": {
          "base_uri": "https://localhost:8080/",
          "height": 441
        }
      },
      "source": [
        "fig=plt.figure(figsize=(3,3))\n",
        "sns.violinplot(df['age'], df['gender']) #Variable Plot\n",
        "sns.despine()"
      ],
      "execution_count": 13,
      "outputs": [
        {
          "output_type": "display_data",
          "data": {
            "image/png": "[encoded data removed]",
            "text/plain": [
              "<Figure size 450x450 with 1 Axes>"
            ]
          },
          "metadata": {
            "tags": []
          }
        }
      ]
    },
    {
      "cell_type": "markdown",
      "metadata": {
        "id": "w6Ce4p0M88Pl",
        "colab_type": "text"
      },
      "source": [
        "# Bar Chart"
      ]
    },
    {
      "cell_type": "markdown",
      "metadata": {
        "id": "jdj80U8Z88Po",
        "colab_type": "text"
      },
      "source": [
        "# Line Chart"
      ]
    },
    {
      "cell_type": "markdown",
      "metadata": {
        "id": "ZAFJKHvJ88Pr",
        "colab_type": "text"
      },
      "source": [
        "# Scatter Plot"
      ]
    },
    {
      "cell_type": "markdown",
      "metadata": {
        "id": "9GDVescc88Pu",
        "colab_type": "text"
      },
      "source": [
        "# Heat Map"
      ]
    },
    {
      "cell_type": "code",
      "metadata": {
        "id": "iWg8TfYo8Aca",
        "colab_type": "code",
        "colab": {}
      },
      "source": [
        "corr = df.corr()"
      ],
      "execution_count": 0,
      "outputs": []
    },
    {
      "cell_type": "code",
      "metadata": {
        "id": "G31p1I1jKnt3",
        "colab_type": "code",
        "colab": {
          "base_uri": "https://localhost:8080/",
          "height": 345
        },
        "outputId": "46ba2400-e7cf-4ac2-a2ed-748ffe232f55"
      },
      "source": [
        "corr"
      ],
      "execution_count": 11,
      "outputs": [
        {
          "output_type": "execute_result",
          "data": {
            "text/html": [
              "<div>\n",
              "<style scoped>\n",
              "    .dataframe tbody tr th:only-of-type {\n",
              "        vertical-align: middle;\n",
              "    }\n",
              "\n",
              "    .dataframe tbody tr th {\n",
              "        vertical-align: top;\n",
              "    }\n",
              "\n",
              "    .dataframe thead th {\n",
              "        text-align: right;\n",
              "    }\n",
              "</style>\n",
              "<table border=\"1\" class=\"dataframe\">\n",
              "  <thead>\n",
              "    <tr style=\"text-align: right;\">\n",
              "      <th></th>\n",
              "      <th>employee_id</th>\n",
              "      <th>no_of_trainings</th>\n",
              "      <th>age</th>\n",
              "      <th>previous_year_rating</th>\n",
              "      <th>length_of_service</th>\n",
              "      <th>KPIs_met &gt;80%</th>\n",
              "      <th>awards_won?</th>\n",
              "      <th>avg_training_score</th>\n",
              "      <th>is_promoted</th>\n",
              "    </tr>\n",
              "  </thead>\n",
              "  <tbody>\n",
              "    <tr>\n",
              "      <th>employee_id</th>\n",
              "      <td>1.000000</td>\n",
              "      <td>-0.005121</td>\n",
              "      <td>0.000437</td>\n",
              "      <td>0.004533</td>\n",
              "      <td>0.001274</td>\n",
              "      <td>-0.002501</td>\n",
              "      <td>0.008420</td>\n",
              "      <td>-0.000586</td>\n",
              "      <td>0.001206</td>\n",
              "    </tr>\n",
              "    <tr>\n",
              "      <th>no_of_trainings</th>\n",
              "      <td>-0.005121</td>\n",
              "      <td>1.000000</td>\n",
              "      <td>-0.081278</td>\n",
              "      <td>-0.063126</td>\n",
              "      <td>-0.057275</td>\n",
              "      <td>-0.045576</td>\n",
              "      <td>-0.007628</td>\n",
              "      <td>0.042517</td>\n",
              "      <td>-0.024896</td>\n",
              "    </tr>\n",
              "    <tr>\n",
              "      <th>age</th>\n",
              "      <td>0.000437</td>\n",
              "      <td>-0.081278</td>\n",
              "      <td>1.000000</td>\n",
              "      <td>0.006008</td>\n",
              "      <td>0.657111</td>\n",
              "      <td>-0.025592</td>\n",
              "      <td>-0.008169</td>\n",
              "      <td>-0.048380</td>\n",
              "      <td>-0.017166</td>\n",
              "    </tr>\n",
              "    <tr>\n",
              "      <th>previous_year_rating</th>\n",
              "      <td>0.004533</td>\n",
              "      <td>-0.063126</td>\n",
              "      <td>0.006008</td>\n",
              "      <td>1.000000</td>\n",
              "      <td>0.000253</td>\n",
              "      <td>0.351578</td>\n",
              "      <td>0.027738</td>\n",
              "      <td>0.075139</td>\n",
              "      <td>0.159320</td>\n",
              "    </tr>\n",
              "    <tr>\n",
              "      <th>length_of_service</th>\n",
              "      <td>0.001274</td>\n",
              "      <td>-0.057275</td>\n",
              "      <td>0.657111</td>\n",
              "      <td>0.000253</td>\n",
              "      <td>1.000000</td>\n",
              "      <td>-0.077693</td>\n",
              "      <td>-0.039927</td>\n",
              "      <td>-0.038122</td>\n",
              "      <td>-0.010670</td>\n",
              "    </tr>\n",
              "    <tr>\n",
              "      <th>KPIs_met &gt;80%</th>\n",
              "      <td>-0.002501</td>\n",
              "      <td>-0.045576</td>\n",
              "      <td>-0.025592</td>\n",
              "      <td>0.351578</td>\n",
              "      <td>-0.077693</td>\n",
              "      <td>1.000000</td>\n",
              "      <td>0.097000</td>\n",
              "      <td>0.078391</td>\n",
              "      <td>0.221582</td>\n",
              "    </tr>\n",
              "    <tr>\n",
              "      <th>awards_won?</th>\n",
              "      <td>0.008420</td>\n",
              "      <td>-0.007628</td>\n",
              "      <td>-0.008169</td>\n",
              "      <td>0.027738</td>\n",
              "      <td>-0.039927</td>\n",
              "      <td>0.097000</td>\n",
              "      <td>1.000000</td>\n",
              "      <td>0.072138</td>\n",
              "      <td>0.195871</td>\n",
              "    </tr>\n",
              "    <tr>\n",
              "      <th>avg_training_score</th>\n",
              "      <td>-0.000586</td>\n",
              "      <td>0.042517</td>\n",
              "      <td>-0.048380</td>\n",
              "      <td>0.075139</td>\n",
              "      <td>-0.038122</td>\n",
              "      <td>0.078391</td>\n",
              "      <td>0.072138</td>\n",
              "      <td>1.000000</td>\n",
              "      <td>0.181147</td>\n",
              "    </tr>\n",
              "    <tr>\n",
              "      <th>is_promoted</th>\n",
              "      <td>0.001206</td>\n",
              "      <td>-0.024896</td>\n",
              "      <td>-0.017166</td>\n",
              "      <td>0.159320</td>\n",
              "      <td>-0.010670</td>\n",
              "      <td>0.221582</td>\n",
              "      <td>0.195871</td>\n",
              "      <td>0.181147</td>\n",
              "      <td>1.000000</td>\n",
              "    </tr>\n",
              "  </tbody>\n",
              "</table>\n",
              "</div>"
            ],
            "text/plain": [
              "                      employee_id  no_of_trainings       age  \\\n",
              "employee_id              1.000000        -0.005121  0.000437   \n",
              "no_of_trainings         -0.005121         1.000000 -0.081278   \n",
              "age                      0.000437        -0.081278  1.000000   \n",
              "previous_year_rating     0.004533        -0.063126  0.006008   \n",
              "length_of_service        0.001274        -0.057275  0.657111   \n",
              "KPIs_met >80%           -0.002501        -0.045576 -0.025592   \n",
              "awards_won?              0.008420        -0.007628 -0.008169   \n",
              "avg_training_score      -0.000586         0.042517 -0.048380   \n",
              "is_promoted              0.001206        -0.024896 -0.017166   \n",
              "\n",
              "                      previous_year_rating  length_of_service  KPIs_met >80%  \\\n",
              "employee_id                       0.004533           0.001274      -0.002501   \n",
              "no_of_trainings                  -0.063126          -0.057275      -0.045576   \n",
              "age                               0.006008           0.657111      -0.025592   \n",
              "previous_year_rating              1.000000           0.000253       0.351578   \n",
              "length_of_service                 0.000253           1.000000      -0.077693   \n",
              "KPIs_met >80%                     0.351578          -0.077693       1.000000   \n",
              "awards_won?                       0.027738          -0.039927       0.097000   \n",
              "avg_training_score                0.075139          -0.038122       0.078391   \n",
              "is_promoted                       0.159320          -0.010670       0.221582   \n",
              "\n",
              "                      awards_won?  avg_training_score  is_promoted  \n",
              "employee_id              0.008420           -0.000586     0.001206  \n",
              "no_of_trainings         -0.007628            0.042517    -0.024896  \n",
              "age                     -0.008169           -0.048380    -0.017166  \n",
              "previous_year_rating     0.027738            0.075139     0.159320  \n",
              "length_of_service       -0.039927           -0.038122    -0.010670  \n",
              "KPIs_met >80%            0.097000            0.078391     0.221582  \n",
              "awards_won?              1.000000            0.072138     0.195871  \n",
              "avg_training_score       0.072138            1.000000     0.181147  \n",
              "is_promoted              0.195871            0.181147     1.000000  "
            ]
          },
          "metadata": {
            "tags": []
          },
          "execution_count": 11
        }
      ]
    },
    {
      "cell_type": "code",
      "metadata": {
        "id": "0j99iifeA_R2",
        "colab_type": "code",
        "colab": {
          "base_uri": "https://localhost:8080/",
          "height": 741
        },
        "outputId": "13a5925a-9aeb-4bc0-d803-f1736cd8a398"
      },
      "source": [
        "plt.figure(figsize=(5,5))\n",
        "sns.heatmap(corr,square=True,cmap='BuPu')"
      ],
      "execution_count": 14,
      "outputs": [
        {
          "output_type": "execute_result",
          "data": {
            "text/plain": [
              "<matplotlib.axes._subplots.AxesSubplot at 0x7fe1fbf556d8>"
            ]
          },
          "metadata": {
            "tags": []
          },
          "execution_count": 14
        },
        {
          "output_type": "display_data",
          "data": {
            "image/png": "[encoded data removed]",
            "text/plain": [
              "<Figure size 750x750 with 2 Axes>"
            ]
          },
          "metadata": {
            "tags": [],
            "needs_background": "light"
          }
        }
      ]
    },
    {
      "cell_type": "code",
      "metadata": {
        "id": "70ZWUBwF801z",
        "colab_type": "code",
        "colab": {}
      },
      "source": [
        ""
      ],
      "execution_count": 0,
      "outputs": []
    }
  ]
}